{
 "cells": [
  {
   "cell_type": "code",
   "execution_count": 4,
   "id": "5dd8bc0d-92bd-48ba-9c0e-5d8aad88408c",
   "metadata": {
    "tags": []
   },
   "outputs": [
    {
     "name": "stdout",
     "output_type": "stream",
     "text": [
      "1\n",
      "2\n",
      "3\n",
      "4\n",
      "5\n",
      "6\n",
      "7\n",
      "8\n",
      "9\n",
      "10\n"
     ]
    }
   ],
   "source": [
    "a=1\n",
    "while a<=10:\n",
    "    print(a)\n",
    "    a=a+1"
   ]
  },
  {
   "cell_type": "markdown",
   "id": "6982f711-552a-400f-8a4f-085a816bdbfc",
   "metadata": {},
   "source": [
    "#sum up the number till some point"
   ]
  },
  {
   "cell_type": "code",
   "execution_count": 6,
   "id": "decdd068-6977-4dda-9242-5988e65dfb64",
   "metadata": {
    "tags": []
   },
   "outputs": [
    {
     "name": "stdin",
     "output_type": "stream",
     "text": [
      "Enter the number :  10\n"
     ]
    },
    {
     "data": {
      "text/plain": [
       "55"
      ]
     },
     "execution_count": 6,
     "metadata": {},
     "output_type": "execute_result"
    }
   ],
   "source": [
    "n = int(input(\"Enter the number : \"))\n",
    "starting_point =0\n",
    "counter = 1\n",
    "while counter <=n:\n",
    "    starting_point = starting_point+counter\n",
    "    counter = counter +1\n",
    "starting_point"
   ]
  },
  {
   "cell_type": "code",
   "execution_count": 3,
   "id": "778357cc-f85b-4671-b0ca-fa7892f37bb5",
   "metadata": {
    "tags": []
   },
   "outputs": [
    {
     "name": "stdin",
     "output_type": "stream",
     "text": [
      "Enter the number :  10\n"
     ]
    },
    {
     "data": {
      "text/plain": [
       "55"
      ]
     },
     "execution_count": 3,
     "metadata": {},
     "output_type": "execute_result"
    }
   ],
   "source": [
    "n = int(input(\"Enter the number : \"))\n",
    "i = 1\n",
    "sum = 0\n",
    "while i<=n:\n",
    "    sum = sum+i\n",
    "    i = i+1\n",
    "sum\n"
   ]
  },
  {
   "cell_type": "markdown",
   "id": "fcb027af-7500-447d-92b5-0f2f62c6ccf9",
   "metadata": {},
   "source": [
    "find the factorial "
   ]
  },
  {
   "cell_type": "code",
   "execution_count": 6,
   "id": "770d911a-1adf-4c13-b4d1-e8fe11f2aba2",
   "metadata": {
    "tags": []
   },
   "outputs": [
    {
     "name": "stdin",
     "output_type": "stream",
     "text": [
      "Enter the number :  3\n"
     ]
    },
    {
     "data": {
      "text/plain": [
       "6"
      ]
     },
     "execution_count": 6,
     "metadata": {},
     "output_type": "execute_result"
    }
   ],
   "source": [
    "n = int(input(\"Enter the number : \"))\n",
    "i=1\n",
    "fact=1\n",
    "while i<=n:\n",
    "    fact = fact*i\n",
    "    i=i+1\n",
    "fact"
   ]
  },
  {
   "cell_type": "code",
   "execution_count": 1,
   "id": "7a702195-4ebe-4d9e-94c6-7b81016f88c2",
   "metadata": {
    "tags": []
   },
   "outputs": [
    {
     "name": "stdout",
     "output_type": "stream",
     "text": [
      "kuldeep\n"
     ]
    }
   ],
   "source": [
    "print(\"kuldeep\")"
   ]
  },
  {
   "cell_type": "code",
   "execution_count": 12,
   "id": "f8e080ac-e88f-49c3-89f3-f93a6658d786",
   "metadata": {
    "tags": []
   },
   "outputs": [
    {
     "name": "stdin",
     "output_type": "stream",
     "text": [
      "Enter the number :  10\n"
     ]
    },
    {
     "name": "stdout",
     "output_type": "stream",
     "text": [
      "0\n",
      "1\n",
      "1\n",
      "2\n",
      "3\n",
      "5\n",
      "8\n",
      "13\n",
      "21\n",
      "34\n"
     ]
    }
   ],
   "source": [
    "n = int(input(\"Enter the number : \"))\n",
    "a , b = 0,1\n",
    "sum = 0\n",
    "while sum < n:\n",
    "    print(a)\n",
    "    s = a+b\n",
    "    a = b\n",
    "    b = s\n",
    "    sum = sum+ 1\n"
   ]
  },
  {
   "cell_type": "code",
   "execution_count": 10,
   "id": "4106bb20-9fae-43c9-8934-6577ed36662a",
   "metadata": {
    "tags": []
   },
   "outputs": [
    {
     "name": "stdin",
     "output_type": "stream",
     "text": [
      "Enter the number of element :  10\n"
     ]
    },
    {
     "name": "stdout",
     "output_type": "stream",
     "text": [
      "0\n",
      "1\n",
      "1\n",
      "2\n",
      "3\n",
      "5\n",
      "8\n",
      "13\n",
      "21\n",
      "34\n"
     ]
    }
   ],
   "source": [
    "number = int(input(\"Enter the number of element : \"))\n",
    "a , b = 0,1\n",
    "counter = 0\n",
    "while counter < number :\n",
    "    print(a)\n",
    "    c = a+b\n",
    "    a = b\n",
    "    b = c\n",
    "    counter = counter+1"
   ]
  },
  {
   "cell_type": "code",
   "execution_count": 13,
   "id": "98a804e3-c647-458e-b7fe-522a0d4abaed",
   "metadata": {
    "tags": []
   },
   "outputs": [],
   "source": [
    "s = \"Kuldeep\""
   ]
  },
  {
   "cell_type": "code",
   "execution_count": 14,
   "id": "5dea24cd-a838-4c54-911c-ec8c0a150d7f",
   "metadata": {
    "tags": []
   },
   "outputs": [
    {
     "data": {
      "text/plain": [
       "'peedluK'"
      ]
     },
     "execution_count": 14,
     "metadata": {},
     "output_type": "execute_result"
    }
   ],
   "source": [
    "s[::-1]"
   ]
  },
  {
   "cell_type": "code",
   "execution_count": 19,
   "id": "aa52beb9-d359-4d34-b151-88e9d8c8e510",
   "metadata": {
    "tags": []
   },
   "outputs": [
    {
     "name": "stdin",
     "output_type": "stream",
     "text": [
      "enter your string for reversal :  kuldeep\n"
     ]
    },
    {
     "name": "stdout",
     "output_type": "stream",
     "text": [
      "peedluk\n"
     ]
    }
   ],
   "source": [
    "word = input(\"enter your string for reversal : \")\n",
    "reverse = \"\"\n",
    "length = len(word)\n",
    "while length>0:\n",
    "    reverse = reverse + word[length -1]\n",
    "    length = length -1\n",
    "print(reverse)"
   ]
  },
  {
   "cell_type": "code",
   "execution_count": null,
   "id": "b9dcb7b6-dc5e-49a4-b56b-f68108e9fa0e",
   "metadata": {},
   "outputs": [],
   "source": []
  },
  {
   "cell_type": "code",
   "execution_count": null,
   "id": "177f89d0-56e3-4261-9971-88cb882590a1",
   "metadata": {},
   "outputs": [],
   "source": []
  },
  {
   "cell_type": "code",
   "execution_count": 2,
   "id": "26d4f32c-d24d-4ac6-aeb2-36546432aac9",
   "metadata": {
    "tags": []
   },
   "outputs": [
    {
     "name": "stdin",
     "output_type": "stream",
     "text": [
      "Enter the number :  5\n"
     ]
    },
    {
     "name": "stdout",
     "output_type": "stream",
     "text": [
      "5 * 1 = 5\n",
      "5 * 2 = 10\n",
      "5 * 3 = 15\n",
      "5 * 4 = 20\n",
      "5 * 5 = 25\n",
      "5 * 6 = 30\n",
      "5 * 7 = 35\n",
      "5 * 8 = 40\n",
      "5 * 9 = 45\n",
      "5 * 10 = 50\n"
     ]
    }
   ],
   "source": [
    "n = int(input(\"Enter the number : \"))\n",
    "i=1\n",
    "while i<=10:\n",
    "    print(n,\"*\",i, \"=\",n*i)\n",
    "    i=i+1"
   ]
  },
  {
   "cell_type": "markdown",
   "id": "4ac7e426-0dfb-4320-bcbe-93b6a490077e",
   "metadata": {},
   "source": [
    "use else with while :"
   ]
  },
  {
   "cell_type": "code",
   "execution_count": 5,
   "id": "10dae656-1a28-4c45-9b54-1fc93f38f5ec",
   "metadata": {
    "tags": []
   },
   "outputs": [
    {
     "name": "stdout",
     "output_type": "stream",
     "text": [
      "1\n",
      "2\n",
      "3\n",
      "4\n",
      "this will be executed once your while will complete it successfully\n"
     ]
    }
   ],
   "source": [
    "n= 5\n",
    "i=1\n",
    "while i < n:\n",
    "    print(i)\n",
    "    \n",
    "    i = i+1\n",
    "else:\n",
    "    print(\"this will be executed once your while will complete it successfully\")"
   ]
  },
  {
   "cell_type": "code",
   "execution_count": 6,
   "id": "55db9198-2bf2-4eee-b1d1-996447a33847",
   "metadata": {
    "tags": []
   },
   "outputs": [
    {
     "name": "stdout",
     "output_type": "stream",
     "text": [
      "1\n",
      "2\n",
      "3\n"
     ]
    }
   ],
   "source": [
    " n= 5\n",
    "i=1\n",
    "while i < n:\n",
    "    print(i)\n",
    "    if i == 3:\n",
    "        break\n",
    "    \n",
    "    i = i+1\n",
    "else:\n",
    "    print(\"this will be executed once your while will complete it successfully\")"
   ]
  },
  {
   "cell_type": "code",
   "execution_count": 9,
   "id": "b70846ea-6eaf-4118-8c3a-c36a13c66be5",
   "metadata": {
    "tags": []
   },
   "outputs": [
    {
     "name": "stdin",
     "output_type": "stream",
     "text": [
      "Enter the fierst number 30\n",
      "Enter the fierst number 50\n",
      "Enter the fierst number 60\n"
     ]
    },
    {
     "name": "stdout",
     "output_type": "stream",
     "text": [
      "60\n"
     ]
    }
   ],
   "source": [
    "a = int(input(\"Enter the fierst number\"))\n",
    "b = int(input(\"Enter the fierst number\"))\n",
    "c = int(input(\"Enter the fierst number\"))\n",
    "if (a>b) and (a>c):\n",
    "    print(a)\n",
    "elif (b>a) and (b>c):\n",
    "    print(b)\n",
    "else:\n",
    "    print(c)"
   ]
  },
  {
   "cell_type": "code",
   "execution_count": null,
   "id": "7e55a694-3997-49d5-822a-594e3706f0b8",
   "metadata": {},
   "outputs": [],
   "source": []
  }
 ],
 "metadata": {
  "kernelspec": {
   "display_name": "Python 3 (ipykernel)",
   "language": "python",
   "name": "python3"
  },
  "language_info": {
   "codemirror_mode": {
    "name": "ipython",
    "version": 3
   },
   "file_extension": ".py",
   "mimetype": "text/x-python",
   "name": "python",
   "nbconvert_exporter": "python",
   "pygments_lexer": "ipython3",
   "version": "3.11.5"
  }
 },
 "nbformat": 4,
 "nbformat_minor": 5
}
